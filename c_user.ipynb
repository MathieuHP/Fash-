{
 "cells": [
  {
   "cell_type": "code",
   "execution_count": 91,
   "metadata": {},
   "outputs": [],
   "source": [
    "import pandas as pd\n",
    "import numpy as np\n",
    "import os"
   ]
  },
  {
   "cell_type": "code",
   "execution_count": 127,
   "metadata": {},
   "outputs": [],
   "source": [
    "class User:\n",
    "    def __init__(self, user_id):\n",
    "        self.user_id = user_id\n",
    "        self.ratings = 0\n",
    "        \n",
    "    def get_demographics_info(self, age, location):\n",
    "        self.age = age\n",
    "        self.location = location\n",
    "        \n",
    "        \n",
    "    def rate_picture(self, picture ):   # get rating from user\n",
    "        picture_rating = int(input(\" do you like this picture? \\n 0 = no ,  1 = like , 2 = super-like\"))  \n",
    "        self.update_database_ratings(picture, picture_rating)\n",
    "\n",
    "    def update_database_ratings(self, picture, rating):\n",
    "        db_path = r\"C:\\Users\\mathi\\Desktop\\Cronos\\Fash!\\DB\\user_ratings_unified_3001x1000.csv\"\n",
    "        df = pd.read_csv(db_path)\n",
    "        if picture not in np.array(df.picture[df[\"user_id\"] == self.user_id]):\n",
    "            df = df.append({\"picture\" : picture, \"rating\":rating, \"user_id\": user_id }, ignore_index = True)\n",
    "            df.to_csv(db_path, index = False)\n",
    "            self.ratings += 1\n",
    "            print(f\" rating of  {rating} / 2 for {picture} pushed to DB\")\n",
    "        else:\n",
    "            print(\"image already rated\")"
   ]
  },
  {
   "cell_type": "code",
   "execution_count": 123,
   "metadata": {},
   "outputs": [],
   "source": [
    "one = User(1)"
   ]
  },
  {
   "cell_type": "code",
   "execution_count": 125,
   "metadata": {},
   "outputs": [
    {
     "name": "stdout",
     "output_type": "stream",
     "text": [
      " do you like this picture? \n",
      " 0 = no ,  1 = like , 2 = super-like2\n",
      "image already rated\n"
     ]
    }
   ],
   "source": [
    "one.rate_picture(\"0371b742ebfbd64c1b7cafd833fd5045.jpg\")"
   ]
  },
  {
   "cell_type": "code",
   "execution_count": 126,
   "metadata": {},
   "outputs": [
    {
     "data": {
      "text/plain": [
       "1"
      ]
     },
     "execution_count": 126,
     "metadata": {},
     "output_type": "execute_result"
    }
   ],
   "source": []
  },
  {
   "cell_type": "code",
   "execution_count": 122,
   "metadata": {},
   "outputs": [
    {
     "data": {
      "text/plain": [
       "2"
      ]
     },
     "execution_count": 122,
     "metadata": {},
     "output_type": "execute_result"
    }
   ],
   "source": []
  },
  {
   "cell_type": "code",
   "execution_count": null,
   "metadata": {},
   "outputs": [],
   "source": []
  },
  {
   "cell_type": "code",
   "execution_count": null,
   "metadata": {},
   "outputs": [],
   "source": []
  }
 ],
 "metadata": {
  "kernelspec": {
   "display_name": "Python 3",
   "language": "python",
   "name": "python3"
  },
  "language_info": {
   "codemirror_mode": {
    "name": "ipython",
    "version": 3
   },
   "file_extension": ".py",
   "mimetype": "text/x-python",
   "name": "python",
   "nbconvert_exporter": "python",
   "pygments_lexer": "ipython3",
   "version": "3.7.4"
  }
 },
 "nbformat": 4,
 "nbformat_minor": 2
}
