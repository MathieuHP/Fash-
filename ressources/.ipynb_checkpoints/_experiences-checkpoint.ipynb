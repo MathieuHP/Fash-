{
 "cells": [
  {
   "cell_type": "markdown",
   "metadata": {},
   "source": [
    "# create_recommended_pictures_list"
   ]
  },
  {
   "cell_type": "code",
   "execution_count": 2,
   "metadata": {},
   "outputs": [],
   "source": [
    "import surprise\n",
    "import pandas as pd\n",
    "import numpy as np\n",
    "import os\n",
    "from surprise import Reader, Dataset, Trainset, SVD, BaselineOnly\n",
    "from surprise.model_selection import cross_validate\n",
    "\n",
    "\n",
    "def get_data():\n",
    "\tpath_df = r\"C:\\Users\\mathi\\Desktop\\Cronos\\Fash!\\DB\\user_ratings_unified_3001x1000.csv\"\n",
    "\tdf = pd.read_csv(path_df)\n",
    "\treturn df\n",
    "\n",
    "\n",
    "def filtering_out_users_and_ratings(df):\n",
    "\tmin_picture_ratings = 50\n",
    "\tfilter_picture = df['picture'].value_counts() > min_picture_ratings\n",
    "\tfilter_picture = filter_picture[filter_picture].index.tolist()\n",
    "\n",
    "\tmin_user_ratings = 20\n",
    "\tfilter_users = df['user_id'].value_counts() > min_user_ratings\n",
    "\tfilter_users = filter_users[filter_users].index.tolist()\n",
    "\n",
    "\tdf_new = df[(df['picture'].isin(filter_picture)) & (df['user_id'].isin(filter_users))]\n",
    "\tprint('The original data frame shape:\\t{}'.format(df.shape))\n",
    "\tprint('The new data frame shape:\\t{}'.format(df_new.shape))\n",
    "\treturn df_new\n",
    "\n",
    "PRED_PATH = r\"C:\\Users\\mathi\\Desktop\\Cronos\\Fash!\\DB\\predictions_reco.npy\"\n",
    "\n",
    "def get_collaborative_recommanded_picture(user_id=int):\n",
    "    \"\"\" get 10 best estimated pictures for an user_id from Surprise predictions \"\"\"\n",
    "    predictions = np.load(PRED_PATH, allow_pickle = True)\n",
    "    estimated_ratings = []\n",
    "    for pred in predictions:\n",
    "        if int(pred[0]) == user_id:\n",
    "            estimated_ratings.append([pred[3] , pred[1]])\n",
    "    estimated_ratings.sort(reverse = True)\n",
    "    result = []\n",
    "    for i in range(50):\n",
    "        result.append(estimated_ratings[i][1])\n",
    "    return result\n",
    "\n",
    "\n",
    "\n",
    "PAHT_DB = r\"C:\\Users\\mathi\\Desktop\\Cronos\\Fash!\\DB\\user_ratings_unified_3001x1000.csv\"\n",
    "\n",
    "FIRST_PICTURES_LIST = [ \n",
    "\"00b6d6ed71e27101211bd77627e5c1b2.jpg\", \n",
    "\"000e18920575a2e59b3a0c38e6546d29.jpg\",\n",
    "'00af8f65bb93f4131499dc9807129a24.jpg',\n",
    "\"00a722065820c4561a5522054ee62fe4.jpg\"\n",
    "]\n",
    "\n",
    "def get_already_rated_pictures(user_id):\n",
    "    # ------------- get list of rated pictures from DB  ------------- *\n",
    "    data = pd.read_csv(PAHT_DB)\n",
    "    rated_pictures = data.loc[data[\"user_id\"] == user_id]\n",
    "    rated_pictures.drop([\"rating\",\"user_id\"],1, inplace = True)\n",
    "    rated_pictures = np.array(rated_pictures)\n",
    "    return rated_pictures\n",
    "\n",
    "\n",
    "def create_recommended_pictures_list(user_id):\n",
    "    rated_pictures = get_already_rated_pictures(user_id)\n",
    "    number_ratings = len(rated_pictures)\n",
    "    \n",
    "    if number_ratings < 20:\n",
    "        return FIRST_PICTURES_LIST\n",
    "    \n",
    "    else:\n",
    "        temp_list = get_collaborative_recommanded_picture(user_id)\n",
    "        \n",
    "        for pic in temp_list:\n",
    "            if pic in rated_pictures:\n",
    "                temp_list.remove(pic)\n",
    "                \n",
    "    return temp_list\n",
    "        "
   ]
  },
  {
   "cell_type": "markdown",
   "metadata": {},
   "source": [
    "#### script to create recommended list for all users (stuck at user 55)"
   ]
  },
  {
   "cell_type": "code",
   "execution_count": 3,
   "metadata": {
    "scrolled": true
   },
   "outputs": [],
   "source": [
    "# import time\n",
    "# from tqdm import tqdm\n",
    "# start = time.time()\n",
    "# user_id = 3\n",
    "\n",
    "# df = pd.DataFrame(columns = [\"user_id\", \"recommended_picture\"])\n",
    "\n",
    "# for i in tqdm(range(3000)):\n",
    "#     user_id = i\n",
    "#     pred_list = create_recommended_pictures_list(user_id)\n",
    "#     df.loc[i] = user_id , [pred_list]\n",
    "\n",
    "# print(time.time() - start)"
   ]
  },
  {
   "cell_type": "code",
   "execution_count": 4,
   "metadata": {},
   "outputs": [
    {
     "name": "stdout",
     "output_type": "stream",
     "text": [
      "[['041316b294a0eb167597b378a1346e58.jpg', '056b06b4594a4c672161c2e2f610b4be.jpg', '00d0c910ed8620d7eac5a6758a90f063.jpg', '0166ff9a6bdb06a6d5bb432d80d9e25a.jpg', '00758bef53b4e871fe2c639a895b5988.jpg', '005cc3138d3afa7236bf4428af165766.jpg', '0395b3354b5d5046e3ed43cb78fbc700.jpg', '03297a99b3e25a02e953dec20c45f668.jpg', '05001387d1a6863f969b1ddacacceffc.jpg', '02b6c73a193a3011a51c53c2ba3e6622.jpg', '03b09421368fd30ea1fa0b88c3ed92b7.jpg', '00f8f5f0ed311b44eb6654091001b655.jpg', '01df60a46efa40fef58b7a8b2bfd6707.jpg', '00213526750c326a6d8cac9d44b458de.jpg', '0251588bd1e8cef00c6a8ae650479d1c.jpg', '04e72c8435768799c846167e09e03a54.jpg', '0368e9c23c7af0df6b2b6988adfb6d3e.jpg', '0214575ca41be96e19481a771320dfb9.jpg', '01a6e32bd457d736d16553be20daa7ec.jpg', '03a47d96ea46fdcee9936f000fd76585.jpg', '0286c9078cb8e3e8002622de380cde42.jpg', '02c2f78b1472b541403326f2994d1805.jpg', '03e167dc886e92a99deea01040e20215.jpg', '053f2a1188adec40b02a2383bda6d0e9.jpg', '03ec9f8da53dec7ce2fa7b01ccbf829c.jpg', '039b36414c5f9dbd9835a3c035fa86e6.jpg', '026acd252a5920bac7c0aa8bd601f407.jpg', '015c09e2465673969b8e4a25b3ad11c3.jpg', '0426c4b4fcc532ab8f69cac6b5684e02.jpg', '05387c86c7009b0dfb5f38fa1ee0d9af.jpg', '04573e75d85a67fadc0a39265dfbfe2a.jpg', '03442e987b3a9d6a5f91e11a17f92833.jpg', '010d5b4c929ca118cbd72ac56656ed2a.jpg', '03d53c62a09aaffb2220f1fa16c804f3.jpg', '0190dbc89ca616826a857f34bea6f3fa.jpg', '00c19f69957fe22c1b64789e3d506e6b.jpg', '03cf565cf7c9ec746d7b3f76cb2ae0d8.jpg', '0518d32c89423a4164879246b1dad57a.jpg', '057a0aefdd95e9e1d02420517a11de3d.jpg', '00a722065820c4561a5522054ee62fe4.jpg', '01292ba969dec3997458fe89fbfa0d2f.jpg', '02f404be0c09d3bc5cff1bb7c6b1bd11.jpg', '057835daba46c1866474e18fcd74fc0e.jpg', '019cccd17cce14b6e866c760f66de034.jpg', '022de341651057fc50dd76a1991bd141.jpg', '0371b742ebfbd64c1b7cafc833fd5045.jpg', '011720c002b9342864ed909378babba8.jpg', '052573a5e132e3fde9f136938289e107.jpg', '03d00dabc2c91876852113315b7e349b.jpg', '03b454030a6785abd5b41f1c4dbd4252.jpg']]\n"
     ]
    }
   ],
   "source": [
    "LIST_PATH = r\"C:\\Users\\mathi\\Desktop\\Cronos\\Fash!\\DB\\reco_list.csv\"\n",
    "df = pd.read_csv(LIST_PATH)\n",
    "user_id = 5\n",
    "\n",
    "if user_id in df.user_id:\n",
    "    x = df.iloc[user_id,1]\n",
    "print(x)"
   ]
  },
  {
   "cell_type": "code",
   "execution_count": 5,
   "metadata": {},
   "outputs": [
    {
     "name": "stderr",
     "output_type": "stream",
     "text": [
      "D:\\Users\\mathi\\Anaconda3\\lib\\site-packages\\pandas\\core\\frame.py:4117: SettingWithCopyWarning: \n",
      "A value is trying to be set on a copy of a slice from a DataFrame\n",
      "\n",
      "See the caveats in the documentation: http://pandas.pydata.org/pandas-docs/stable/user_guide/indexing.html#returning-a-view-versus-a-copy\n",
      "  errors=errors,\n"
     ]
    }
   ],
   "source": [
    "pred_list = create_recommended_pictures_list(56)"
   ]
  },
  {
   "cell_type": "code",
   "execution_count": null,
   "metadata": {},
   "outputs": [],
   "source": [
    "# df.to_csv(\"reco_list.csv\", index_label  = False )"
   ]
  },
  {
   "cell_type": "code",
   "execution_count": null,
   "metadata": {},
   "outputs": [],
   "source": []
  },
  {
   "cell_type": "code",
   "execution_count": 7,
   "metadata": {},
   "outputs": [
    {
     "name": "stderr",
     "output_type": "stream",
     "text": [
      "100%|██████████| 10/10 [00:10<00:00,  1.00s/it]\n"
     ]
    }
   ],
   "source": [
    "from tqdm import tqdm\n",
    "import time\n",
    "for i in tqdm(range(10)):\n",
    "    time.sleep(1)"
   ]
  },
  {
   "cell_type": "code",
   "execution_count": 118,
   "metadata": {},
   "outputs": [
    {
     "name": "stdout",
     "output_type": "stream",
     "text": [
      "[1, 2, 3, 4, 5, 6, 9, 10, 11, 12, 14, 15]\n"
     ]
    }
   ],
   "source": [
    "result = []\n",
    "rated_pictures = [7,8, 13]\n",
    "estimated_ratings = [1,2,3,4,5,6,7,8,9,10,11,12,13,14,15]\n",
    "i = 0\n",
    "while len(result) < 50 :\n",
    "    if estimated_ratings[i]:\n",
    "        if estimated_ratings[i] in rated_pictures:\n",
    "            estimated_ratings.remove(estimated_ratings[i])\n",
    "            continue\n",
    "        result.append(estimated_ratings[i])\n",
    "        if estimated_ratings[i] == estimated_ratings[-1]:\n",
    "            break\n",
    "    i+=1\n",
    "print(result)"
   ]
  },
  {
   "cell_type": "code",
   "execution_count": 121,
   "metadata": {},
   "outputs": [
    {
     "data": {
      "text/plain": [
       "12"
      ]
     },
     "execution_count": 121,
     "metadata": {},
     "output_type": "execute_result"
    }
   ],
   "source": [
    "len(estimated_ratings)"
   ]
  },
  {
   "cell_type": "code",
   "execution_count": null,
   "metadata": {},
   "outputs": [],
   "source": [
    "\n",
    "    if user_id in df.user_id:\n",
    "        pictures_list = df.iloc[user_id,1]\n",
    "    else:\n",
    "        pictures_list = FIRST_PICTURES_LIST"
   ]
  },
  {
   "cell_type": "code",
   "execution_count": 6,
   "metadata": {},
   "outputs": [
    {
     "name": "stdout",
     "output_type": "stream",
     "text": [
      "[['041316b294a0eb167597b378a1346e58.jpg', '056b06b4594a4c672161c2e2f610b4be.jpg', '00d0c910ed8620d7eac5a6758a90f063.jpg', '0166ff9a6bdb06a6d5bb432d80d9e25a.jpg', '00758bef53b4e871fe2c639a895b5988.jpg', '005cc3138d3afa7236bf4428af165766.jpg', '0395b3354b5d5046e3ed43cb78fbc700.jpg', '03297a99b3e25a02e953dec20c45f668.jpg', '05001387d1a6863f969b1ddacacceffc.jpg', '02b6c73a193a3011a51c53c2ba3e6622.jpg', '03b09421368fd30ea1fa0b88c3ed92b7.jpg', '00f8f5f0ed311b44eb6654091001b655.jpg', '01df60a46efa40fef58b7a8b2bfd6707.jpg', '00213526750c326a6d8cac9d44b458de.jpg', '0251588bd1e8cef00c6a8ae650479d1c.jpg', '04e72c8435768799c846167e09e03a54.jpg', '0368e9c23c7af0df6b2b6988adfb6d3e.jpg', '0214575ca41be96e19481a771320dfb9.jpg', '01a6e32bd457d736d16553be20daa7ec.jpg', '03a47d96ea46fdcee9936f000fd76585.jpg', '0286c9078cb8e3e8002622de380cde42.jpg', '02c2f78b1472b541403326f2994d1805.jpg', '03e167dc886e92a99deea01040e20215.jpg', '053f2a1188adec40b02a2383bda6d0e9.jpg', '03ec9f8da53dec7ce2fa7b01ccbf829c.jpg', '039b36414c5f9dbd9835a3c035fa86e6.jpg', '026acd252a5920bac7c0aa8bd601f407.jpg', '015c09e2465673969b8e4a25b3ad11c3.jpg', '0426c4b4fcc532ab8f69cac6b5684e02.jpg', '05387c86c7009b0dfb5f38fa1ee0d9af.jpg', '04573e75d85a67fadc0a39265dfbfe2a.jpg', '03442e987b3a9d6a5f91e11a17f92833.jpg', '010d5b4c929ca118cbd72ac56656ed2a.jpg', '03d53c62a09aaffb2220f1fa16c804f3.jpg', '0190dbc89ca616826a857f34bea6f3fa.jpg', '00c19f69957fe22c1b64789e3d506e6b.jpg', '03cf565cf7c9ec746d7b3f76cb2ae0d8.jpg', '0518d32c89423a4164879246b1dad57a.jpg', '057a0aefdd95e9e1d02420517a11de3d.jpg', '00a722065820c4561a5522054ee62fe4.jpg', '01292ba969dec3997458fe89fbfa0d2f.jpg', '02f404be0c09d3bc5cff1bb7c6b1bd11.jpg', '057835daba46c1866474e18fcd74fc0e.jpg', '019cccd17cce14b6e866c760f66de034.jpg', '022de341651057fc50dd76a1991bd141.jpg', '0371b742ebfbd64c1b7cafc833fd5045.jpg', '011720c002b9342864ed909378babba8.jpg', '052573a5e132e3fde9f136938289e107.jpg', '03d00dabc2c91876852113315b7e349b.jpg', '03b454030a6785abd5b41f1c4dbd4252.jpg']]\n",
      "<class 'str'>\n"
     ]
    }
   ],
   "source": [
    "LIST_PATH = r\"C:\\Users\\mathi\\Desktop\\Cronos\\Fash!\\DB\\reco_list.csv\"\n",
    "df = pd.read_csv(LIST_PATH)\n",
    "user_id = 5\n",
    "\n",
    "if user_id in df.user_id:\n",
    "    x = df.iloc[user_id,1]\n",
    "else:\n",
    "    pictures_list = FIRST_PICTURES_LIST\n",
    "\n",
    "print(x)\n",
    "print(type(x))"
   ]
  },
  {
   "cell_type": "code",
   "execution_count": 10,
   "metadata": {},
   "outputs": [
    {
     "data": {
      "text/plain": [
       "['041316b294a0eb167597b378a1346e58.jpg',\n",
       " ' 056b06b4594a4c672161c2e2f610b4be.jpg',\n",
       " ' 00d0c910ed8620d7eac5a6758a90f063.jpg',\n",
       " ' 0166ff9a6bdb06a6d5bb432d80d9e25a.jpg',\n",
       " ' 00758bef53b4e871fe2c639a895b5988.jpg',\n",
       " ' 005cc3138d3afa7236bf4428af165766.jpg',\n",
       " ' 0395b3354b5d5046e3ed43cb78fbc700.jpg',\n",
       " ' 03297a99b3e25a02e953dec20c45f668.jpg',\n",
       " ' 05001387d1a6863f969b1ddacacceffc.jpg',\n",
       " ' 02b6c73a193a3011a51c53c2ba3e6622.jpg',\n",
       " ' 03b09421368fd30ea1fa0b88c3ed92b7.jpg',\n",
       " ' 00f8f5f0ed311b44eb6654091001b655.jpg',\n",
       " ' 01df60a46efa40fef58b7a8b2bfd6707.jpg',\n",
       " ' 00213526750c326a6d8cac9d44b458de.jpg',\n",
       " ' 0251588bd1e8cef00c6a8ae650479d1c.jpg',\n",
       " ' 04e72c8435768799c846167e09e03a54.jpg',\n",
       " ' 0368e9c23c7af0df6b2b6988adfb6d3e.jpg',\n",
       " ' 0214575ca41be96e19481a771320dfb9.jpg',\n",
       " ' 01a6e32bd457d736d16553be20daa7ec.jpg',\n",
       " ' 03a47d96ea46fdcee9936f000fd76585.jpg',\n",
       " ' 0286c9078cb8e3e8002622de380cde42.jpg',\n",
       " ' 02c2f78b1472b541403326f2994d1805.jpg',\n",
       " ' 03e167dc886e92a99deea01040e20215.jpg',\n",
       " ' 053f2a1188adec40b02a2383bda6d0e9.jpg',\n",
       " ' 03ec9f8da53dec7ce2fa7b01ccbf829c.jpg',\n",
       " ' 039b36414c5f9dbd9835a3c035fa86e6.jpg',\n",
       " ' 026acd252a5920bac7c0aa8bd601f407.jpg',\n",
       " ' 015c09e2465673969b8e4a25b3ad11c3.jpg',\n",
       " ' 0426c4b4fcc532ab8f69cac6b5684e02.jpg',\n",
       " ' 05387c86c7009b0dfb5f38fa1ee0d9af.jpg',\n",
       " ' 04573e75d85a67fadc0a39265dfbfe2a.jpg',\n",
       " ' 03442e987b3a9d6a5f91e11a17f92833.jpg',\n",
       " ' 010d5b4c929ca118cbd72ac56656ed2a.jpg',\n",
       " ' 03d53c62a09aaffb2220f1fa16c804f3.jpg',\n",
       " ' 0190dbc89ca616826a857f34bea6f3fa.jpg',\n",
       " ' 00c19f69957fe22c1b64789e3d506e6b.jpg',\n",
       " ' 03cf565cf7c9ec746d7b3f76cb2ae0d8.jpg',\n",
       " ' 0518d32c89423a4164879246b1dad57a.jpg',\n",
       " ' 057a0aefdd95e9e1d02420517a11de3d.jpg',\n",
       " ' 00a722065820c4561a5522054ee62fe4.jpg',\n",
       " ' 01292ba969dec3997458fe89fbfa0d2f.jpg',\n",
       " ' 02f404be0c09d3bc5cff1bb7c6b1bd11.jpg',\n",
       " ' 057835daba46c1866474e18fcd74fc0e.jpg',\n",
       " ' 019cccd17cce14b6e866c760f66de034.jpg',\n",
       " ' 022de341651057fc50dd76a1991bd141.jpg',\n",
       " ' 0371b742ebfbd64c1b7cafc833fd5045.jpg',\n",
       " ' 011720c002b9342864ed909378babba8.jpg',\n",
       " ' 052573a5e132e3fde9f136938289e107.jpg',\n",
       " ' 03d00dabc2c91876852113315b7e349b.jpg',\n",
       " ' 03b454030a6785abd5b41f1c4dbd4252.jpg']"
      ]
     },
     "execution_count": 10,
     "metadata": {},
     "output_type": "execute_result"
    }
   ],
   "source": [
    "cars = [\"[\",\"]\",\"'\"]\n",
    "for i in cars:\n",
    "    x = x.replace(i, \"\")\n",
    "\n",
    "x = x.split(\",\")\n",
    "x"
   ]
  },
  {
   "cell_type": "code",
   "execution_count": null,
   "metadata": {},
   "outputs": [],
   "source": []
  },
  {
   "cell_type": "code",
   "execution_count": null,
   "metadata": {},
   "outputs": [],
   "source": []
  }
 ],
 "metadata": {
  "kernelspec": {
   "display_name": "Python 3",
   "language": "python",
   "name": "python3"
  },
  "language_info": {
   "codemirror_mode": {
    "name": "ipython",
    "version": 3
   },
   "file_extension": ".py",
   "mimetype": "text/x-python",
   "name": "python",
   "nbconvert_exporter": "python",
   "pygments_lexer": "ipython3",
   "version": "3.7.4"
  }
 },
 "nbformat": 4,
 "nbformat_minor": 2
}
