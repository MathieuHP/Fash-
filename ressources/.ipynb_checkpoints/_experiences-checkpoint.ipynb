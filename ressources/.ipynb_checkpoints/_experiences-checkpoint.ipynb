{
 "cells": [
  {
   "cell_type": "markdown",
   "metadata": {},
   "source": [
    "# create_recommended_pictures_list"
   ]
  },
  {
   "cell_type": "code",
   "execution_count": 5,
   "metadata": {},
   "outputs": [],
   "source": [
    "import numpy as np\n",
    "import os\n",
    "import pandas as pd\n",
    "\n",
    "from model_collaborative_recommander import get_collaborative_recommanded_picture\n",
    "\n",
    "PAHT_DB = r\"C:\\Users\\mathi\\Desktop\\Cronos\\Fash!\\DB\\user_ratings_unified_3001x1000.csv\"\n",
    "\n",
    "FIRST_PICTURES_LIST = [ \n",
    "\"00b6d6ed71e27101211bd77627e5c1b2.jpg\", \n",
    "\"000e18920575a2e59b3a0c38e6546d29.jpg\",\n",
    "'00af8f65bb93f4131499dc9807129a24.jpg',\n",
    "\"00a722065820c4561a5522054ee62fe4.jpg\"\n",
    "]\n",
    "\n",
    "def get_already_rated_pictures(user_id):\n",
    "    # ------------- get list of rated pictures from DB  ------------- *\n",
    "    data = pd.read_csv(PAHT_DB)\n",
    "    rated_pictures = data.loc[data[\"user_id\"] == user_id]\n",
    "    rated_pictures.drop([\"rating\",\"user_id\"],1, inplace = True)\n",
    "    rated_pictures = np.array(rated_pictures)\n",
    "    return rated_pictures\n",
    "\n",
    "\n",
    "def create_recommended_pictures_list(user_id):\n",
    "    rated_pictures = get_already_rated_pictures(user_id)\n",
    "    number_ratings = len(rated_pictures)\n",
    "    \n",
    "    if number_ratings < 20:\n",
    "        return FIRST_PICTURES_LIST\n",
    "    \n",
    "    else:\n",
    "        temp_list = get_collaborative_recommanded_picture(user_id)\n",
    "        \n",
    "        for pic in temp_list:\n",
    "            if pic in rated_pictures:\n",
    "                temp_list.remove(pic)\n",
    "                \n",
    "    return temp_list\n",
    "        "
   ]
  },
  {
   "cell_type": "code",
   "execution_count": 6,
   "metadata": {
    "scrolled": true
   },
   "outputs": [
    {
     "ename": "FileNotFoundError",
     "evalue": "[Errno 2] No such file or directory: 'DB\\\\predictions_reco.npy'",
     "output_type": "error",
     "traceback": [
      "\u001b[1;31m---------------------------------------------------------------------------\u001b[0m",
      "\u001b[1;31mFileNotFoundError\u001b[0m                         Traceback (most recent call last)",
      "\u001b[1;32m<ipython-input-6-126d37220cdf>\u001b[0m in \u001b[0;36m<module>\u001b[1;34m\u001b[0m\n\u001b[1;32m----> 1\u001b[1;33m \u001b[0mx\u001b[0m \u001b[1;33m=\u001b[0m\u001b[0mcreate_recommended_pictures_list\u001b[0m\u001b[1;33m(\u001b[0m\u001b[1;36m3\u001b[0m\u001b[1;33m)\u001b[0m\u001b[1;33m\u001b[0m\u001b[1;33m\u001b[0m\u001b[0m\n\u001b[0m",
      "\u001b[1;32m<ipython-input-5-edc16e7ada31>\u001b[0m in \u001b[0;36mcreate_recommended_pictures_list\u001b[1;34m(user_id)\u001b[0m\n\u001b[0;32m     31\u001b[0m \u001b[1;33m\u001b[0m\u001b[0m\n\u001b[0;32m     32\u001b[0m     \u001b[1;32melse\u001b[0m\u001b[1;33m:\u001b[0m\u001b[1;33m\u001b[0m\u001b[1;33m\u001b[0m\u001b[0m\n\u001b[1;32m---> 33\u001b[1;33m         \u001b[0mtemp_list\u001b[0m \u001b[1;33m=\u001b[0m \u001b[0mget_collaborative_recommanded_picture\u001b[0m\u001b[1;33m(\u001b[0m\u001b[0muser_id\u001b[0m\u001b[1;33m)\u001b[0m\u001b[1;33m\u001b[0m\u001b[1;33m\u001b[0m\u001b[0m\n\u001b[0m\u001b[0;32m     34\u001b[0m \u001b[1;33m\u001b[0m\u001b[0m\n\u001b[0;32m     35\u001b[0m         \u001b[1;32mfor\u001b[0m \u001b[0mpic\u001b[0m \u001b[1;32min\u001b[0m \u001b[0mtemp_list\u001b[0m\u001b[1;33m:\u001b[0m\u001b[1;33m\u001b[0m\u001b[1;33m\u001b[0m\u001b[0m\n",
      "\u001b[1;32m~\\Desktop\\Cronos\\Fash!\\ressources\\model_collaborative_recommander.py\u001b[0m in \u001b[0;36mget_collaborative_recommanded_picture\u001b[1;34m(user_id)\u001b[0m\n\u001b[0;32m     52\u001b[0m \u001b[1;32mdef\u001b[0m \u001b[0mget_collaborative_recommanded_picture\u001b[0m\u001b[1;33m(\u001b[0m\u001b[0muser_id\u001b[0m\u001b[1;33m=\u001b[0m\u001b[0mint\u001b[0m\u001b[1;33m)\u001b[0m\u001b[1;33m:\u001b[0m\u001b[1;33m\u001b[0m\u001b[1;33m\u001b[0m\u001b[0m\n\u001b[0;32m     53\u001b[0m     \u001b[1;34m\"\"\" get 10 best estimated pictures for an user_id from Surprise predictions \"\"\"\u001b[0m\u001b[1;33m\u001b[0m\u001b[1;33m\u001b[0m\u001b[0m\n\u001b[1;32m---> 54\u001b[1;33m     \u001b[0mpredictions\u001b[0m \u001b[1;33m=\u001b[0m \u001b[0mnp\u001b[0m\u001b[1;33m.\u001b[0m\u001b[0mload\u001b[0m\u001b[1;33m(\u001b[0m\u001b[1;34mr\"DB/predictions_reco.npy\"\u001b[0m\u001b[1;33m,\u001b[0m \u001b[0mallow_pickle\u001b[0m \u001b[1;33m=\u001b[0m \u001b[1;32mTrue\u001b[0m\u001b[1;33m)\u001b[0m\u001b[1;33m\u001b[0m\u001b[1;33m\u001b[0m\u001b[0m\n\u001b[0m\u001b[0;32m     55\u001b[0m     \u001b[0mestimated_ratings\u001b[0m \u001b[1;33m=\u001b[0m \u001b[1;33m[\u001b[0m\u001b[1;33m]\u001b[0m\u001b[1;33m\u001b[0m\u001b[1;33m\u001b[0m\u001b[0m\n\u001b[0;32m     56\u001b[0m     \u001b[1;32mfor\u001b[0m \u001b[0mpred\u001b[0m \u001b[1;32min\u001b[0m \u001b[0mpredictions\u001b[0m\u001b[1;33m:\u001b[0m\u001b[1;33m\u001b[0m\u001b[1;33m\u001b[0m\u001b[0m\n",
      "\u001b[1;32mD:\\Users\\mathi\\Anaconda3\\lib\\site-packages\\numpy\\lib\\npyio.py\u001b[0m in \u001b[0;36mload\u001b[1;34m(file, mmap_mode, allow_pickle, fix_imports, encoding)\u001b[0m\n\u001b[0;32m    420\u001b[0m         \u001b[0mown_fid\u001b[0m \u001b[1;33m=\u001b[0m \u001b[1;32mFalse\u001b[0m\u001b[1;33m\u001b[0m\u001b[1;33m\u001b[0m\u001b[0m\n\u001b[0;32m    421\u001b[0m     \u001b[1;32melse\u001b[0m\u001b[1;33m:\u001b[0m\u001b[1;33m\u001b[0m\u001b[1;33m\u001b[0m\u001b[0m\n\u001b[1;32m--> 422\u001b[1;33m         \u001b[0mfid\u001b[0m \u001b[1;33m=\u001b[0m \u001b[0mopen\u001b[0m\u001b[1;33m(\u001b[0m\u001b[0mos_fspath\u001b[0m\u001b[1;33m(\u001b[0m\u001b[0mfile\u001b[0m\u001b[1;33m)\u001b[0m\u001b[1;33m,\u001b[0m \u001b[1;34m\"rb\"\u001b[0m\u001b[1;33m)\u001b[0m\u001b[1;33m\u001b[0m\u001b[1;33m\u001b[0m\u001b[0m\n\u001b[0m\u001b[0;32m    423\u001b[0m         \u001b[0mown_fid\u001b[0m \u001b[1;33m=\u001b[0m \u001b[1;32mTrue\u001b[0m\u001b[1;33m\u001b[0m\u001b[1;33m\u001b[0m\u001b[0m\n\u001b[0;32m    424\u001b[0m \u001b[1;33m\u001b[0m\u001b[0m\n",
      "\u001b[1;31mFileNotFoundError\u001b[0m: [Errno 2] No such file or directory: 'DB\\\\predictions_reco.npy'"
     ]
    }
   ],
   "source": [
    "x =create_recommended_pictures_list(3)"
   ]
  },
  {
   "cell_type": "code",
   "execution_count": 3,
   "metadata": {},
   "outputs": [
    {
     "data": {
      "text/plain": [
       "array([['0512e37c3f7a22a0c441bcb5b97dbb36.jpg'],\n",
       "       ['019256468d49a1dd3fce4d4b58854650.jpg'],\n",
       "       ['0482ae46336853d171186e2481fc90d4.jpg'],\n",
       "       ['054a8f156ac1414deb5be8001cb66ec1.jpg'],\n",
       "       ['04481ebb3354add799483996ff8599a6.jpg'],\n",
       "       ['01330309bf64b598e7fa1abd21a3807d.jpg'],\n",
       "       ['00416e3e6e860ba44984dec14c6d8d4e.jpg'],\n",
       "       ['04b027428cf676a4c40d463979c91acc.jpg'],\n",
       "       ['027df197bc7d5ac3334c533de6c968ee.jpg'],\n",
       "       ['055c483a07ab251e1ed08deee1196ffe.jpg'],\n",
       "       ['00c81ae8b1f5e3b5d051d8ec12aa023c.jpg'],\n",
       "       ['011c59f7c25d18027f4f9b2b1cffd44a.jpg'],\n",
       "       ['02170eff0a51a002decef300dffe107c.jpg'],\n",
       "       ['00b6d6ed71e27101211bd77627e5c1b2.jpg'],\n",
       "       ['04ff721b2a2bdde6770c294096a00b17.jpg'],\n",
       "       ['044b9660baf816ccf6733ff498144404.jpg'],\n",
       "       ['02cfbff3578369f3897ba7ca2ffb62ad.jpg'],\n",
       "       ['046b65bfc9e6d5bf96a84688038dccda.jpg'],\n",
       "       ['01be6d5a655413dc48c328dcfaa6a8df.jpg'],\n",
       "       ['042abf7c09cbc9173af1c16fc0c2bbad.jpg'],\n",
       "       ['00c83df35584c4f2584dd79f463b29b4.jpg'],\n",
       "       ['01fadd6dba7d2e96e1abd377d3d6cdc0.jpg'],\n",
       "       ['0534f828cab94f83eed576ee86a9ebba.jpg'],\n",
       "       ['054f0f81ac95e169dbd55ee194d86ce6.jpg'],\n",
       "       ['03c27c47179ccf0073230f6461a50696.jpg'],\n",
       "       ['01b7031a82842a85255fb49dfcd0d7d6.jpg'],\n",
       "       ['00fa60d510f4ba187c06a37a96b58d26.jpg'],\n",
       "       ['046f1078ce1fcf441e98d926725668f5.jpg'],\n",
       "       ['005cc3138d3afa7236bf4428af165766.jpg'],\n",
       "       ['04b0faafa2fd74464608562d7e1fca95.jpg'],\n",
       "       ['030907e5b49ce359ab768cf0ec33e6fb.jpg'],\n",
       "       ['00b9a7729c9934f76ff67c54b5ad94f3.jpg'],\n",
       "       ['0236ab903f304f6890bbce35370d4b94.jpg'],\n",
       "       ['019779f177b5c64117a7218ac1eb5ef6.jpg'],\n",
       "       ['02ccdc13d1b000eb759d3537b7785b44.jpg'],\n",
       "       ['0118bf2682ea34328273569ec4f170d3.jpg'],\n",
       "       ['0190dbc89ca616826a857f34bea6f3fa.jpg'],\n",
       "       ['025185cac077fac4b9a3a2f054d0f162.jpg'],\n",
       "       ['021af4001512419103e1b00d2d743878.jpg'],\n",
       "       ['0266c5a97b98873303862929e880208c.jpg'],\n",
       "       ['013f88aefdaeb0324356bb46b479ae28.jpg'],\n",
       "       ['007aa0ae2365228066c5b29e2f21de0c.jpg'],\n",
       "       ['04d2e66413c470d9dad3cf961657789d.jpg'],\n",
       "       ['02e5a34637554d29b9b99c7656a35362.jpg'],\n",
       "       ['011f982a18f986585c1941057109f570.jpg'],\n",
       "       ['00382465705798a714595f1d043a24e6.jpg'],\n",
       "       ['029720c77ebda81f6a57efd7a34df406.jpg'],\n",
       "       ['0397e799144914d7795b774eff4de453.jpg'],\n",
       "       ['01ec7dc26b52c85b18d3f67ad1961c78.jpg'],\n",
       "       ['039b11afc5c5975d3c1cabc37b28776e.jpg'],\n",
       "       ['03c0003bf67056dc9d4e4755064329cb.jpg'],\n",
       "       ['00f833d9b1e0d14e2dbcfaec55e693e8.jpg'],\n",
       "       ['020444664a7bdd8faee934026db2032c.jpg'],\n",
       "       ['02041cc24ec7e8519945e3a90f806634.jpg'],\n",
       "       ['0113b0f57bd44c31590a41227b522503.jpg'],\n",
       "       ['03bf016c47bbbe61991194e9a64c08ee.jpg'],\n",
       "       ['022c29cc41a21e615c4c06db19755f09.jpg'],\n",
       "       ['036fa2f658e6c35fd3503734404dd045.jpg'],\n",
       "       ['039f6972419a51b0cd13a607edb202a7.jpg'],\n",
       "       ['008c04a98882236f63dac4bf57e221c2.jpg'],\n",
       "       ['03d1952dad67b748e36f952e8a6dbcf2.jpg'],\n",
       "       ['016cff28a4e7fd521fb8b49cef62cbc3.jpg'],\n",
       "       ['02dcbd23f80fb3d8f7f930e29de3e329.jpg'],\n",
       "       ['04af99e5cf1ae417eb34de2994bad43c.jpg'],\n",
       "       ['03a832041ef9b6872a576e7bd87badb0.jpg'],\n",
       "       ['032ac5cd888fbf10b8cb508b081392d1.jpg'],\n",
       "       ['0518d32c89423a4164879246b1dad57a.jpg'],\n",
       "       ['012285ff5c9e3d19ccf726ae02ee54c6.jpg'],\n",
       "       ['05587a7f8e263f34ad27176362330b83.jpg'],\n",
       "       ['013997edc5cc9e5ffa382b8bdec8a0b5.jpg'],\n",
       "       ['03847e03930d7de063b05b818823aa3e.jpg'],\n",
       "       ['015682a2d1f42c5a6a208dcb573af271.jpg'],\n",
       "       ['00e1237a5df0af757a57719262759d0a.jpg'],\n",
       "       ['00d8ff3896fb7afe8d8bcef057d0820a.jpg'],\n",
       "       ['0572e25c94cdab10f44de16e9a46a52c.jpg'],\n",
       "       ['01f7eabba7015529c0e03dd7ef92077b.jpg'],\n",
       "       ['03d801052c73ce19ff0ab9f0f3d42ff9.jpg'],\n",
       "       ['050001200b9b27172002606b72296886.jpg'],\n",
       "       ['0234ee456f4ad2dfee4538d98a583d20.jpg'],\n",
       "       ['01209ff253bf2c942a69842ef4a1502b.jpg'],\n",
       "       ['01f674e727ee420fd0e2c9a0be8c9c9b.jpg'],\n",
       "       ['057d219cc81cd8f8c42c1c9455d8f070.jpg'],\n",
       "       ['01d86832f0658f680a5e7ca33d15e447.jpg'],\n",
       "       ['03d53c62a09aaffb2220f1fa16c804f3.jpg'],\n",
       "       ['003b3e4579833df109d330773418fd65.jpg'],\n",
       "       ['04c25c7a0a89f700bf04899e81f4d202.jpg']], dtype=object)"
      ]
     },
     "execution_count": 3,
     "metadata": {},
     "output_type": "execute_result"
    }
   ],
   "source": [
    "x"
   ]
  },
  {
   "cell_type": "code",
   "execution_count": null,
   "metadata": {},
   "outputs": [],
   "source": []
  }
 ],
 "metadata": {
  "kernelspec": {
   "display_name": "Python 3",
   "language": "python",
   "name": "python3"
  },
  "language_info": {
   "codemirror_mode": {
    "name": "ipython",
    "version": 3
   },
   "file_extension": ".py",
   "mimetype": "text/x-python",
   "name": "python",
   "nbconvert_exporter": "python",
   "pygments_lexer": "ipython3",
   "version": "3.7.4"
  }
 },
 "nbformat": 4,
 "nbformat_minor": 2
}
